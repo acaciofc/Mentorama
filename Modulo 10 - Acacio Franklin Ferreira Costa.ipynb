{
 "cells": [
  {
   "cell_type": "code",
   "execution_count": 4,
   "id": "b762bea5",
   "metadata": {},
   "outputs": [
    {
     "name": "stdout",
     "output_type": "stream",
     "text": [
      "Processo 1\n"
     ]
    }
   ],
   "source": [
    "#1) Crie a função proc1 que imprime a mensagem \"Processo 1\" e siga as intruções\n",
    "def proc1():\n",
    "    print('Processo 1')\n",
    "\n",
    "#a) Inicialize essa função a partir de um objeto Thread t1\n",
    "from threading import Thread\n",
    "t1 = Thread(target=proc1).start()"
   ]
  },
  {
   "cell_type": "code",
   "execution_count": 5,
   "id": "21308a75",
   "metadata": {},
   "outputs": [
    {
     "data": {
      "text/plain": [
       "True"
      ]
     },
     "execution_count": 5,
     "metadata": {},
     "output_type": "execute_result"
    }
   ],
   "source": [
    "#b) Consulte se o objeto thread criado está ativo\n",
    "import threading\n",
    "threading.current_thread().is_alive()"
   ]
  },
  {
   "cell_type": "code",
   "execution_count": 17,
   "id": "f88e7d3d",
   "metadata": {},
   "outputs": [
    {
     "name": "stderr",
     "output_type": "stream",
     "text": [
      "C:\\Users\\DALBA152\\AppData\\Local\\Temp\\ipykernel_3168\\3420894390.py:3: DeprecationWarning: getName() is deprecated, get the name attribute instead\n",
      "  threading.current_thread().getName()\n"
     ]
    },
    {
     "data": {
      "text/plain": [
       "'MainThread'"
      ]
     },
     "execution_count": 17,
     "metadata": {},
     "output_type": "execute_result"
    }
   ],
   "source": [
    "#c) Consulte o nome da thread ativa atualmente\n",
    "import threading\n",
    "threading.current_thread().getName()"
   ]
  },
  {
   "cell_type": "code",
   "execution_count": 16,
   "id": "417e74c9",
   "metadata": {},
   "outputs": [
    {
     "data": {
      "text/plain": [
       "8460"
      ]
     },
     "execution_count": 16,
     "metadata": {},
     "output_type": "execute_result"
    }
   ],
   "source": [
    "#d) Consulte o identificados de thread do thread atual\n",
    "import threading\n",
    "threading.get_ident()"
   ]
  },
  {
   "cell_type": "code",
   "execution_count": 8,
   "id": "01e4c0e3",
   "metadata": {},
   "outputs": [
    {
     "data": {
      "text/plain": [
       "6"
      ]
     },
     "execution_count": 8,
     "metadata": {},
     "output_type": "execute_result"
    }
   ],
   "source": [
    "#e) Consulte a quantidade de threads ativas atualmente\n",
    "import threading\n",
    "threading.active_count()"
   ]
  },
  {
   "cell_type": "code",
   "execution_count": 18,
   "id": "71b06dd3",
   "metadata": {},
   "outputs": [
    {
     "data": {
      "text/plain": [
       "[<_MainThread(MainThread, started 4808)>,\n",
       " <Thread(IOPub, started daemon 7216)>,\n",
       " <Heartbeat(Heartbeat, started daemon 4608)>,\n",
       " <ControlThread(Control, started daemon 7480)>,\n",
       " <HistorySavingThread(IPythonHistorySavingThread, started 19660)>,\n",
       " <ParentPollerWindows(Thread-4, started daemon 22768)>]"
      ]
     },
     "execution_count": 18,
     "metadata": {},
     "output_type": "execute_result"
    }
   ],
   "source": [
    "#f) Retorne uma lista com todas as threads ativas atualmente\n",
    "import threading\n",
    "threading.enumerate()"
   ]
  },
  {
   "cell_type": "code",
   "execution_count": 1,
   "id": "09d99641",
   "metadata": {},
   "outputs": [
    {
     "name": "stdout",
     "output_type": "stream",
     "text": [
      "Processo 1\n",
      "Processo 2\n"
     ]
    }
   ],
   "source": [
    "#2) Crie duas funções proc1 e proc2\n",
    "from threading import Thread\n",
    "\n",
    "def proc1():\n",
    "    time.sleep(5)\n",
    "    print('Processo 1')\n",
    "def proc2():\n",
    "    time.sleep(30)\n",
    "    print('Processo 2')\n",
    "\n"
   ]
  },
  {
   "cell_type": "code",
   "execution_count": 2,
   "id": "dc3ba836",
   "metadata": {},
   "outputs": [
    {
     "name": "stdout",
     "output_type": "stream",
     "text": [
      "Processo 1\n",
      "Processo 2\n"
     ]
    }
   ],
   "source": [
    "#a) inicialize as duas funções\n",
    "t1 = Thread(target=proc1).start()\n",
    "t2 = Thread(target=proc2).start()"
   ]
  },
  {
   "cell_type": "code",
   "execution_count": 6,
   "id": "85df8f4c",
   "metadata": {},
   "outputs": [
    {
     "data": {
      "text/plain": [
       "True"
      ]
     },
     "execution_count": 6,
     "metadata": {},
     "output_type": "execute_result"
    }
   ],
   "source": [
    "#b) Consulte se estao ativos\n",
    "threading.current_thread().is_alive()"
   ]
  },
  {
   "cell_type": "code",
   "execution_count": 13,
   "id": "1ab5f9bc",
   "metadata": {},
   "outputs": [
    {
     "name": "stdout",
     "output_type": "stream",
     "text": [
      "Processo 1\n"
     ]
    }
   ],
   "source": [
    "#c) Importe o modulo time\n",
    "from threading import Thread\n",
    "import time\n",
    "def proc1():\n",
    "    time.sleep(5)\n",
    "    print('Processo 1')\n",
    "def proc2():\n",
    "    time.sleep(30)\n",
    "    print('Processo 2')\n",
    "t1 = Thread(target=proc1).start()\n",
    "t2 = Thread(target=proc2).start()"
   ]
  },
  {
   "cell_type": "code",
   "execution_count": 15,
   "id": "3cc5624b",
   "metadata": {},
   "outputs": [
    {
     "data": {
      "text/plain": [
       "True"
      ]
     },
     "execution_count": 15,
     "metadata": {},
     "output_type": "execute_result"
    },
    {
     "name": "stdout",
     "output_type": "stream",
     "text": [
      "Processo 2\n"
     ]
    }
   ],
   "source": [
    "#d) Consulte rapidamente\n",
    "threading.current_thread().is_alive()"
   ]
  },
  {
   "cell_type": "code",
   "execution_count": 2,
   "id": "d86683e4",
   "metadata": {},
   "outputs": [],
   "source": [
    "#3) \n",
    "#a) O que é problema do produtor consumidor e como podemos resolver este problema com threads?\n",
    "# Este problema consiste na concorrência entre threads que tem acesso a um mesmo recurso. \n",
    "# O que gera desafio de sincronização\n",
    "\n",
    "#b) Indique mais um problema clássico da computação e como podemos resolve-los com threads explicando\n",
    "# de forma detalhada\n",
    "# Deadlock é quando vários processos recorrentes entram em loop infinito pois todos os threads \n",
    "# dependem do mesmo recurso. Neste caso faz necessário o uso de Semaforos. O semáforo irá garantir \n",
    "#que haja exclusão mútua, onde apenas uma thread estará com um determinado processo por vez. \n",
    "# Não acontecendo o deadlock"
   ]
  },
  {
   "cell_type": "code",
   "execution_count": 3,
   "id": "e48a9c49",
   "metadata": {},
   "outputs": [],
   "source": [
    "#4) Em relação aos objetos em Threads, complete a tabela a seguir.\n",
    "# Thread\n",
    "## Descrição - Executar a thread\n",
    "## Comando - Thread(target=\"função\").start()\n",
    "\n",
    "# Lock\n",
    "## Descrição -  Condição de corrida\n",
    "## Comando -  lock.acquire() - Adquirir e lock.release() - Liberar\n",
    "\n",
    "# Rlock\n",
    "## Descrição - Bloqueio de reentrada\n",
    "## Comando - threading.RLock.acquire() - Adquirir e threading.RLock.release() - Liberar\n",
    "\n",
    "# Condition\n",
    "## Descrição - Permite que vários threads sejam notificados sobre algum resultado.\n",
    "## Comando - threading.Condition()\n",
    "\n",
    "# Event\n",
    "## Descrição - Um evento é uma primitiva de simultaneidade simples que permite a comunicação entre threads.\n",
    "## Comando - threading.Event().set() - threading.Event().clear() - threading.Event().wait()\n",
    "\n",
    "# Semaphore\n",
    "## Descrição - É uma extensão de um bloqueio de exclusão mútua\n",
    "## Comando - threading.Semaphore().acquire() - threading.Semaphore().release()\n",
    "\n",
    "# Timer\n",
    "## Descrição - Executar uma função após um intervalo de tempo.\n",
    "## Comando - threading.Timer().start()\n",
    "\n",
    "# Barrier\n",
    "## Descrição - Permite que vários processos (ou threads) esperem na mesma instância de objeto de barreira\n",
    "## Comando - from multiprocessing import Pool / multiprocessing.Barrier()\n"
   ]
  }
 ],
 "metadata": {
  "kernelspec": {
   "display_name": "Python 3 (ipykernel)",
   "language": "python",
   "name": "python3"
  },
  "language_info": {
   "codemirror_mode": {
    "name": "ipython",
    "version": 3
   },
   "file_extension": ".py",
   "mimetype": "text/x-python",
   "name": "python",
   "nbconvert_exporter": "python",
   "pygments_lexer": "ipython3",
   "version": "3.10.11"
  }
 },
 "nbformat": 4,
 "nbformat_minor": 5
}
