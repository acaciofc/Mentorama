{
 "cells": [
  {
   "cell_type": "code",
   "execution_count": null,
   "id": "340d7972",
   "metadata": {},
   "outputs": [],
   "source": [
    "import sqlite3\n",
    "banco = sqlite3.connect('aula_8.db')"
   ]
  },
  {
   "cell_type": "code",
   "execution_count": null,
   "id": "4ff69a5d",
   "metadata": {},
   "outputs": [],
   "source": [
    "cursor = banco.cursor()"
   ]
  },
  {
   "cell_type": "code",
   "execution_count": null,
   "id": "a7154744",
   "metadata": {},
   "outputs": [],
   "source": [
    "#Criando Tabela Funcionarios\n",
    "cursor.execute(\"\"\"\n",
    "CREATE TABLE \"Funionarios\" (\n",
    "    \"Codigo\"\tINTEGER,\n",
    "    \"PrimeiroNome\"\tTEXT,\n",
    "    \"SegundoNome\"\tTEXT,\n",
    "    \"UltimoNome\"\tTEXT,\n",
    "    \"DataNasci\"\tTEXT,\n",
    "    \"CPF\"\tTEXT,\n",
    "    \"RG\"\tTEXT,\n",
    "    \"Endereco\"\tTEXT,\n",
    "    \"CEP\"\tTEXT,\n",
    "    \"Cidade\"\tTEXT,\n",
    "    \"Fone\"\tTEXT,\n",
    "    \"CodigoDepartamento\"\tINTEGER,\n",
    "    \"Funcao\"\tTEXT,\n",
    "    \"Salario\"\tINTEGER,\n",
    "    PRIMARY KEY(\"Codigo\")\n",
    ");\n",
    "\"\"\")"
   ]
  },
  {
   "cell_type": "code",
   "execution_count": null,
   "id": "8d2c0bc8",
   "metadata": {},
   "outputs": [],
   "source": [
    "#Populando a tabela Funcionários\n",
    "import random \n",
    "nomes = ['JOSE', 'MARIA', 'JOAO', 'MONICA', 'ESTER'] \n",
    "DataNasci = ['01/01/1950', '05/09/1983', '11/04/2000', '05/05/1980', '31/03/1992']\n",
    "CPF = ['111.111.111-11', '222.222.222-22', '333.333.333-33', '444.444.444-44', '555.555.555-55']\n",
    "RG = ['111-1', '222-2', '333-3', '444-4', '555-5']\n",
    "Endereco = ['CASA_1', 'CASA_2', 'CASA_3', 'CASA_4', 'CASA_5']\n",
    "CEP = ['11.111-11', '22.222-22', '33.333-33', '44.444-44', '55.555-55']\n",
    "Cidade = ['SAO PAULO', 'BELO HORIZONTE', 'CURITIBA', 'RIO DE JANEIRO', 'GOIANIA']\n",
    "Fone = ['(11) 1111-1111', '(22) 2222-2222', '(33) 3333-3333', '(44) 4444-4444', '(55) 5555-5555']\n",
    "CodigoDepartamento = [1, 2, 3, 4, 5]\n",
    "Funcao = ['ELETRICISTA', 'PEDREIRO', 'MOTORISTA', 'VIGIA', 'MANOBISTA']\n",
    "Salario = [500, 900, 1200, 1500, 2000]\n",
    "for i in range(100):\n",
    "    numeros = random.sample(range(5), k=3)\n",
    "    nome1 = nomes[numeros[0]]\n",
    "    nome2 = nomes[numeros[1]]\n",
    "    nome3 = nomes[numeros[2]]\n",
    "    cursor.execute(f\"\"\"INSERT INTO Funionarios \n",
    "    VALUES ({i+1}, '{nome1}', '{nome2}', '{nome3}', '{DataNasci[numeros[3]]}',\n",
    "    '{CPF[numeros[2]]}', '{RG[numeros[1]]}', '{Endereco[numeros[0]]}', '{CEP[numeros[3]]}', '{Cidade[numeros[2]]}',\n",
    "    '{Fone[numeros[1]]}', '{CodigoDepartamento[numeros[0]]}', '{Funcao[numeros[3]]}', '{Salario[numeros[2]]}')\"\"\")\n",
    "    banco.commit()\n",
    "banco.commit()"
   ]
  },
  {
   "cell_type": "code",
   "execution_count": null,
   "id": "d3287856",
   "metadata": {},
   "outputs": [],
   "source": [
    "#Criando tabela Departamentos\n",
    "cursor.execute(\"\"\"\n",
    "CREATE TABLE \"Departamentos\" (\n",
    "    \"Codigo\"\tINTEGER,\n",
    "    \"Nome\"\tTEXT,\n",
    "    \"Localizacao\"\tTEXT,\n",
    "    \"CodigoFuncionarioGerente\"\tINTEGER,\n",
    "    PRIMARY KEY(\"Codigo\")\n",
    ");\n",
    "\"\"\")"
   ]
  },
  {
   "cell_type": "code",
   "execution_count": null,
   "id": "4f435cd5",
   "metadata": {},
   "outputs": [],
   "source": [
    "# Populando Departamentos\n",
    "cursor.execute(\"INSERT INTO Departamentos VALUES (1, 'LOGISTICA', 'SAO PAULO', 1)\")\n",
    "cursor.execute(\"INSERT INTO Departamentos VALUES (2, 'COMERCIAL', 'CURITIBA', 1)\")\n",
    "cursor.execute(\"INSERT INTO Departamentos VALUES (3, 'SEGURANCA', 'BELO HORIZONTE', 1)\")\n",
    "cursor.execute(\"INSERT INTO Departamentos VALUES (4, 'TECNOLOGIA', 'RIO DE JANEIRO', 1)\")\n",
    "cursor.execute(\"INSERT INTO Departamentos VALUES (5, 'FINANCEIRO', 'SALVADOR', 1)\")\n",
    "banco.commit()\n"
   ]
  },
  {
   "cell_type": "code",
   "execution_count": null,
   "id": "eed213cb",
   "metadata": {},
   "outputs": [],
   "source": [
    "# Exercicio A\n",
    "cursor.execute(\"\"\"SELECT Funionarios.PrimeiroNome, Funionarios.SegundoNome\n",
    "                FROM Funionarios\n",
    "                ORDER BY Funionarios.SegundoNome;\n",
    "                \"\"\")\n",
    "a = cursor.fetchall()\n",
    "for i in range (0, len(a)):\n",
    "    print(a[i])"
   ]
  },
  {
   "cell_type": "code",
   "execution_count": null,
   "id": "80958128",
   "metadata": {},
   "outputs": [],
   "source": [
    "# Exercicio B\n",
    "cursor.execute(\"\"\"SELECT Funionarios.*\n",
    "                FROM Funionarios\n",
    "                ORDER BY Funionarios.Cidade;\n",
    "                \"\"\")\n",
    "b = cursor.fetchall()\n",
    "for i in range (0, len(b)):\n",
    "    print(b[i])"
   ]
  },
  {
   "cell_type": "code",
   "execution_count": null,
   "id": "66a51892",
   "metadata": {},
   "outputs": [],
   "source": [
    "# Exercicio C\n",
    "cursor.execute(\"\"\"SELECT Funionarios.*\n",
    "                FROM Funionarios\n",
    "                WHERE (((Funionarios.Salario)>1000));\n",
    "                \"\"\")\n",
    "c = cursor.fetchall()\n",
    "for i in range (0, len(c)):\n",
    "    print(c[i])"
   ]
  },
  {
   "cell_type": "code",
   "execution_count": null,
   "id": "b5e974bd",
   "metadata": {},
   "outputs": [],
   "source": [
    "# Exercicio D\n",
    "cursor.execute(\"\"\"SELECT Funionarios.PrimeiroNome, Funionarios.DataNasci\n",
    "                FROM Funionarios\n",
    "                ORDER BY Funionarios.DataNasci;\n",
    "                \"\"\")\n",
    "d = cursor.fetchall()\n",
    "for i in range (0, len(d)):\n",
    "    print(d[i])"
   ]
  },
  {
   "cell_type": "code",
   "execution_count": null,
   "id": "f4db8703",
   "metadata": {},
   "outputs": [],
   "source": [
    "# Exercicio E\n",
    "cursor.execute(\"\"\"SELECT Sum(Funionarios.Salario) AS [Folha]\n",
    "                FROM Funionarios;\n",
    "                \"\"\")\n",
    "e = cursor.fetchall()\n",
    "for i in range (0, len(e)):\n",
    "    print(e[i])"
   ]
  },
  {
   "cell_type": "code",
   "execution_count": null,
   "id": "c9d76259",
   "metadata": {},
   "outputs": [],
   "source": [
    "# Exercicio F\n",
    "cursor.execute(\"\"\"SELECT Funionarios.PrimeiroNome, Departamentos.Nome, Funionarios.Funcao\n",
    "                    FROM Departamentos INNER JOIN Funionarios ON Departamentos.Codigo = Funionarios.CodigoDepartamento;\n",
    "                \"\"\")\n",
    "f = cursor.fetchall()\n",
    "for i in range (0, len(f)):\n",
    "    print(f[i])"
   ]
  },
  {
   "cell_type": "code",
   "execution_count": null,
   "id": "3981cb63",
   "metadata": {},
   "outputs": [],
   "source": [
    "# Exercicio G\n",
    "cursor.execute(\"\"\"SELECT count (distinct Funionarios.Codigo) AS total_funcionarios\n",
    "                    FROM Funionarios;\n",
    "                \"\"\")\n",
    "g = cursor.fetchall()\n",
    "for i in range (0, len(g)):\n",
    "    print(g[i])"
   ]
  },
  {
   "cell_type": "code",
   "execution_count": null,
   "id": "09161786",
   "metadata": {},
   "outputs": [],
   "source": [
    "# Exercicio H\n",
    "cursor.execute(\"\"\"SELECT Departamentos.Nome, Funionarios.PrimeiroNome\n",
    "                FROM Departamentos INNER JOIN Funionarios ON Departamentos.Codigo = Funionarios.CodigoDepartamento\n",
    "                ORDER BY Departamentos.Nome, Funionarios.PrimeiroNome;\n",
    "                \"\"\")\n",
    "h = cursor.fetchall()\n",
    "for i in range (0, len(h)):\n",
    "    print(h[i])"
   ]
  },
  {
   "cell_type": "code",
   "execution_count": null,
   "id": "70ca8dd5",
   "metadata": {},
   "outputs": [],
   "source": []
  }
 ],
 "metadata": {
  "kernelspec": {
   "display_name": "Python 3 (ipykernel)",
   "language": "python",
   "name": "python3"
  },
  "language_info": {
   "codemirror_mode": {
    "name": "ipython",
    "version": 3
   },
   "file_extension": ".py",
   "mimetype": "text/x-python",
   "name": "python",
   "nbconvert_exporter": "python",
   "pygments_lexer": "ipython3",
   "version": "3.10.11"
  }
 },
 "nbformat": 4,
 "nbformat_minor": 5
}
