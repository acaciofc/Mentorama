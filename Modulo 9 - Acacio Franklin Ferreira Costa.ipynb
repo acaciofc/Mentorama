{
 "cells": [
  {
   "cell_type": "code",
   "execution_count": 89,
   "id": "2f014133",
   "metadata": {},
   "outputs": [
    {
     "name": "stdout",
     "output_type": "stream",
     "text": [
      "time.struct_time(tm_year=1970, tm_mon=1, tm_mday=1, tm_hour=0, tm_min=0, tm_sec=0, tm_wday=3, tm_yday=1, tm_isdst=0)\n"
     ]
    }
   ],
   "source": [
    "#1. Escreva scripts para mostrar os diversos formatos de tempo conforme se segue\n",
    "#a) Impressão da época padrão\n",
    "import time\n",
    "print(time.gmtime(0))"
   ]
  },
  {
   "cell_type": "code",
   "execution_count": 91,
   "id": "8bc7e802",
   "metadata": {},
   "outputs": [
    {
     "name": "stdout",
     "output_type": "stream",
     "text": [
      "Segundos desde a época:  1699450856.8688817\n"
     ]
    }
   ],
   "source": [
    "#b) Segundos que se passaram desde a época\n",
    "import time\n",
    "seconds = time.time()\n",
    "print(\"Segundos desde a época: \", seconds)"
   ]
  },
  {
   "cell_type": "code",
   "execution_count": 92,
   "id": "343d46a9",
   "metadata": {},
   "outputs": [
    {
     "name": "stdout",
     "output_type": "stream",
     "text": [
      "Tempo local: Wed Nov  8 09:40:56 2023\n"
     ]
    }
   ],
   "source": [
    "#c) Imprime os dados do tempo no momento atual\n",
    "import time\n",
    "local_time = time.ctime(seconds)\n",
    "print(\"Tempo local:\", local_time)"
   ]
  },
  {
   "cell_type": "code",
   "execution_count": 117,
   "id": "8494a9b4",
   "metadata": {},
   "outputs": [
    {
     "name": "stdout",
     "output_type": "stream",
     "text": [
      "9:48:53"
     ]
    }
   ],
   "source": [
    "#d) Crie um objeto time.localtime() e imprima o valor das horas, minutos e segundos\n",
    "import time\n",
    "for i in range (3,6):\n",
    "    print(time.localtime()[i], end=\"\")\n",
    "    if i != 5:\n",
    "        print(\":\", end=\"\")"
   ]
  },
  {
   "cell_type": "code",
   "execution_count": 125,
   "id": "b768f3ff",
   "metadata": {},
   "outputs": [
    {
     "name": "stdout",
     "output_type": "stream",
     "text": [
      "NÃO estamos em horário de verão\n"
     ]
    }
   ],
   "source": [
    "#e) Imprime se o momento atual estamos em horario de verão ou não\n",
    "import time\n",
    "horario_verao = time.gmtime()[8]\n",
    "if horario_verao == 0:\n",
    "    print('NÃO estamos em horário de verão')\n",
    "if horario_verao == 1:\n",
    "    print('ESTAMOS em horário de verão')\n",
    "if horario_verao == -1:\n",
    "    print('Horário de verão indefinido')\n",
    " "
   ]
  },
  {
   "cell_type": "code",
   "execution_count": 202,
   "id": "8ae8ff26",
   "metadata": {},
   "outputs": [
    {
     "name": "stdout",
     "output_type": "stream",
     "text": [
      "1 . Olá mundo\n",
      "2 . Olá mundo\n",
      "3 . Olá mundo\n",
      "4 . Olá mundo\n",
      "5 . Olá mundo\n",
      "None\n"
     ]
    }
   ],
   "source": [
    "#2. Escreva um programa pra imprimir uma string 'Ola mundo', \n",
    "#cinco vezes em que cada uma das impressões demore três segundos entre uma e outra\n",
    "import time\n",
    "def hello(n, m):\n",
    "    for i in range (0, n):\n",
    "        print (i+1,'. Olá mundo')\n",
    "        time.sleep(m)\n",
    "\n",
    "print(hello(5,3))\n"
   ]
  },
  {
   "cell_type": "code",
   "execution_count": 211,
   "id": "5b68ba2f",
   "metadata": {},
   "outputs": [
    {
     "name": "stdout",
     "output_type": "stream",
     "text": [
      "1 . Olá mundo\n",
      "2 . Olá mundo\n",
      "3 . Olá mundo\n",
      "4 . Olá mundo\n",
      "5 . Olá mundo\n",
      "\n",
      "Tempo de execução:  15.029193639755249\n"
     ]
    }
   ],
   "source": [
    "#3.1 Adapte o programa acima para calcular o tempo de processamento do script. Utilize o time.time() e \n",
    "#perf_counter() para apresentar a variação de tempo\n",
    "import time\n",
    "start_exec = time.time()\n",
    "def hello (n,m):\n",
    "    for i in range (0, n):\n",
    "        print (i+1,'. Olá mundo')\n",
    "        time.sleep(m)\n",
    "    return ''\n",
    "print(hello(5,3))\n",
    "end_exec = time.time()\n",
    "print(\"Tempo de execução: \", end_exec - start_exec)"
   ]
  },
  {
   "cell_type": "code",
   "execution_count": 210,
   "id": "ed25fa5e",
   "metadata": {},
   "outputs": [
    {
     "name": "stdout",
     "output_type": "stream",
     "text": [
      "1 . Olá mundo\n",
      "2 . Olá mundo\n",
      "3 . Olá mundo\n",
      "4 . Olá mundo\n",
      "5 . Olá mundo\n",
      "\n",
      "Tempo de execução:  15.026744800001325\n"
     ]
    }
   ],
   "source": [
    "#3.2 Adapte o programa acima para calcular o tempo de processamento do script. Utilize o time.time() e \n",
    "#perf_counter() para apresentar a variação de tempo\n",
    "import time\n",
    "start_exec = time.perf_counter()\n",
    "def hello (n,m):\n",
    "    for i in range (0, n):\n",
    "        print (i+1,'. Olá mundo')\n",
    "        time.sleep(m)\n",
    "    return ''\n",
    "print(hello(5,3))\n",
    "end_exec = time.perf_counter()\n",
    "print(\"Tempo de execução: \", end_exec - start_exec)"
   ]
  },
  {
   "cell_type": "code",
   "execution_count": 234,
   "id": "f06288d0",
   "metadata": {},
   "outputs": [
    {
     "name": "stdout",
     "output_type": "stream",
     "text": [
      "9\n",
      "16/10/1987\n",
      "17/10/1987\n",
      "18/10/1987\n",
      "19/10/1987\n",
      "20/10/1987\n",
      "21/10/1987\n",
      "22/10/1987\n",
      "23/10/1987\n",
      "24/10/1987\n",
      "25/10/1987\n"
     ]
    }
   ],
   "source": [
    "#4. Escreva um programa para obter uma lista de datas entre duas datas. Considre o passo de um dia e reproduza\n",
    "# o intervalo das datas entre 16/10/87 e 25/10/87\n",
    "import datetime\n",
    "passo = datetime.timedelta(days=1)\n",
    "\n",
    "start = datetime.date(1987,10,16)\n",
    "end = datetime.date(1987,10,25)\n",
    "\n",
    "while start != (end + passo):\n",
    "    print(start.strftime('%d/%m/%Y'))\n",
    "    start = start + passo"
   ]
  },
  {
   "cell_type": "code",
   "execution_count": 138,
   "id": "70742da7",
   "metadata": {},
   "outputs": [
    {
     "name": "stdout",
     "output_type": "stream",
     "text": [
      "Wed Nov  8 11:01:12 2023\n"
     ]
    }
   ],
   "source": [
    "#5. Escreva scripts para mostrar os diversos formatos de data e tempo conforme segue\n",
    "#a) Data e hora atual\n",
    "import time\n",
    "print(time.asctime())"
   ]
  },
  {
   "cell_type": "code",
   "execution_count": 145,
   "id": "9995e484",
   "metadata": {},
   "outputs": [
    {
     "name": "stdout",
     "output_type": "stream",
     "text": [
      "Ano atual: 2023\n"
     ]
    }
   ],
   "source": [
    "#b) Ano atual\n",
    "import time\n",
    "print('Ano atual:', time.gmtime()[0])"
   ]
  },
  {
   "cell_type": "code",
   "execution_count": 146,
   "id": "f82a20d4",
   "metadata": {},
   "outputs": [
    {
     "name": "stdout",
     "output_type": "stream",
     "text": [
      "Mês atual: 11\n"
     ]
    }
   ],
   "source": [
    "#c) Mês atual\n",
    "import time\n",
    "print('Mês atual:', time.gmtime()[1])"
   ]
  },
  {
   "cell_type": "code",
   "execution_count": 222,
   "id": "07d16bb9",
   "metadata": {},
   "outputs": [
    {
     "name": "stdout",
     "output_type": "stream",
     "text": [
      "Numero da semana do ano:  45\n"
     ]
    }
   ],
   "source": [
    "#d) Numero da semana do ano\n",
    "import datetime\n",
    "hoje = datetime.datetime.now()\n",
    "print(\"Numero da semana do ano: \", hoje.isocalendar().week)"
   ]
  },
  {
   "cell_type": "code",
   "execution_count": 185,
   "id": "dfe27aae",
   "metadata": {},
   "outputs": [
    {
     "name": "stdout",
     "output_type": "stream",
     "text": [
      "Dia atual da semana: 2\n"
     ]
    }
   ],
   "source": [
    "#e) Dia atual da semana\n",
    "import time\n",
    "print('Dia atual da semana:', time.gmtime()[6])"
   ]
  },
  {
   "cell_type": "code",
   "execution_count": 187,
   "id": "c26944ed",
   "metadata": {},
   "outputs": [
    {
     "name": "stdout",
     "output_type": "stream",
     "text": [
      "Dia do ano: 312\n"
     ]
    }
   ],
   "source": [
    "#f) Dia do ano\n",
    "import time\n",
    "print('Dia do ano:', time.gmtime()[7])"
   ]
  },
  {
   "cell_type": "code",
   "execution_count": 189,
   "id": "69b36e85",
   "metadata": {},
   "outputs": [
    {
     "name": "stdout",
     "output_type": "stream",
     "text": [
      "Dia do mês: 8\n"
     ]
    }
   ],
   "source": [
    "#f) Dia do mês\n",
    "import time\n",
    "print('Dia do mês:', time.gmtime()[2])"
   ]
  },
  {
   "cell_type": "code",
   "execution_count": 190,
   "id": "33355302",
   "metadata": {},
   "outputs": [
    {
     "name": "stdout",
     "output_type": "stream",
     "text": [
      "Hoje é: QUARTA\n"
     ]
    }
   ],
   "source": [
    "#h) Dia da semana\n",
    "import time\n",
    "dias = ['SEGUNDA', 'TERÇA', 'QUARTA', 'QUINTA', 'SEXTA', 'SABADO', 'DOMINGO']\n",
    "print('Hoje é:', dias[time.gmtime()[6]])"
   ]
  },
  {
   "cell_type": "code",
   "execution_count": 286,
   "id": "ccdb7e82",
   "metadata": {},
   "outputs": [
    {
     "data": {
      "text/plain": [
       "datetime.datetime(2021, 1, 1, 13, 53)"
      ]
     },
     "execution_count": 286,
     "metadata": {},
     "output_type": "execute_result"
    }
   ],
   "source": [
    "#6) Escreva um programa em python capaz de converter uma string em data e hora.\n",
    "from datetime import datetime\n",
    "\n",
    "data_texto = '01 de January de 2021 13h53'\n",
    "data_date = datetime.strptime(data_texto, '%d de %B de %Y %Hh%M')\n",
    "data_date"
   ]
  },
  {
   "cell_type": "code",
   "execution_count": 238,
   "id": "86dd370e",
   "metadata": {},
   "outputs": [
    {
     "name": "stdout",
     "output_type": "stream",
     "text": [
      "17/01/2021\n"
     ]
    }
   ],
   "source": [
    "#7) Escreva um programa python para substituir 8 dias da data atual\n",
    "\n",
    "import datetime\n",
    "passo = datetime.timedelta(days=8)\n",
    "atual = datetime.date(2021,1,25)\n",
    "atual = atual - passo\n",
    "print(atual.strftime('%d/%m/%Y'))\n"
   ]
  },
  {
   "cell_type": "code",
   "execution_count": 262,
   "id": "c9ac4bc2",
   "metadata": {},
   "outputs": [
    {
     "name": "stdout",
     "output_type": "stream",
     "text": [
      "A diferença é de: 10 dias\n",
      "A diferenca é de: 10 dias\n",
      "A diferenca é de: 10 dias\n"
     ]
    }
   ],
   "source": [
    "#8) Escreva um programa python para calcular o numero de dias entre 2 datetime. \n",
    "#A diferencia entre os valores deve ser igual a 10\n",
    "import datetime\n",
    "\n",
    "start = datetime.timedelta(days=10)\n",
    "end = datetime.timedelta(days=20)\n",
    "diferenca = end - start\n",
    "\n",
    "print('A diferença é de:', diferenca.days, 'dias')\n",
    "print('A diferenca é de: {} dias'.format(diferenca.days))\n",
    "print(f'A diferenca é de: {diferenca.days} dias')"
   ]
  },
  {
   "cell_type": "code",
   "execution_count": 281,
   "id": "701c9a1f",
   "metadata": {},
   "outputs": [
    {
     "name": "stdout",
     "output_type": "stream",
     "text": [
      "A diferença é de: 4 dias\n",
      "A diferenca é de: 4 dias\n",
      "A diferenca é de: 4 dias\n"
     ]
    }
   ],
   "source": [
    "#9) Faça um programa que calcule a diferença em dias entre antes de ontem e depois de amanhã\n",
    "import datetime\n",
    "passo = datetime.timedelta(days=2)\n",
    "\n",
    "hoje = datetime.datetime.today()\n",
    "antes = hoje - passo\n",
    "depois = hoje + passo\n",
    "diferenca = depois - antes\n",
    "\n",
    "print('A diferença é de:', diferenca.days, 'dias')\n",
    "print('A diferenca é de: {} dias'.format(diferenca.days))\n",
    "print(f'A diferenca é de: {diferenca.days} dias')"
   ]
  }
 ],
 "metadata": {
  "kernelspec": {
   "display_name": "Python 3 (ipykernel)",
   "language": "python",
   "name": "python3"
  },
  "language_info": {
   "codemirror_mode": {
    "name": "ipython",
    "version": 3
   },
   "file_extension": ".py",
   "mimetype": "text/x-python",
   "name": "python",
   "nbconvert_exporter": "python",
   "pygments_lexer": "ipython3",
   "version": "3.10.11"
  }
 },
 "nbformat": 4,
 "nbformat_minor": 5
}
